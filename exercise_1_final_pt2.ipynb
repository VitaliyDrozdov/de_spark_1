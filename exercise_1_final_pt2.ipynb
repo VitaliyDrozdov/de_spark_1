{
 "cells": [
  {
   "cell_type": "code",
   "execution_count": 21,
   "metadata": {},
   "outputs": [
    {
     "name": "stdout",
     "output_type": "stream",
     "text": [
      "root\n",
      " |-- ip: string (nullable = true)\n",
      " |-- timestamp: timestamp (nullable = true)\n",
      " |-- method: string (nullable = true)\n",
      " |-- url: string (nullable = true)\n",
      " |-- response_code: integer (nullable = true)\n",
      " |-- response_size: integer (nullable = true)\n",
      "\n",
      "+---------------+-------------------+------+------------------+-------------+-------------+\n",
      "|             ip|          timestamp|method|               url|response_code|response_size|\n",
      "+---------------+-------------------+------+------------------+-------------+-------------+\n",
      "| 65.188.134.213|2024-06-16 21:03:58|   PUT|          tag/main|          301|         1240|\n",
      "|  164.201.196.1|2024-02-07 23:17:32|  POST|   blog/main/posts|          200|         8839|\n",
      "| 181.111.157.10|2024-05-28 17:13:05|DELETE|               app|          404|         3713|\n",
      "|  125.3.137.142|2024-02-04 18:15:14|DELETE|      main/explore|          200|         9517|\n",
      "|160.117.189.238|2024-06-23 01:59:10|  POST|        categories|          301|         4523|\n",
      "| 202.171.48.119|2024-11-30 03:18:37|   PUT|               app|          404|         2392|\n",
      "| 139.65.197.224|2024-03-17 12:09:03|   PUT|   categories/main|          404|         3263|\n",
      "|   64.55.57.245|2024-10-04 07:18:42|  POST|          category|          200|         7125|\n",
      "|  65.170.201.72|2024-01-23 05:48:30|   PUT|    search/explore|          200|         1827|\n",
      "| 168.121.129.72|2024-09-29 13:47:01|   GET|posts/tag/category|          404|         7329|\n",
      "+---------------+-------------------+------+------------------+-------------+-------------+\n",
      "only showing top 10 rows\n",
      "\n"
     ]
    }
   ],
   "source": [
    "from pyspark.sql import SparkSession\n",
    "\n",
    "spark = SparkSession.builder.appName('spark_final_task').getOrCreate()\n",
    "\n",
    "df = spark.read.csv('web_server_logs.csv', header=True, inferSchema=True)\n",
    "df.printSchema()\n",
    "df.show(10)\n"
   ]
  },
  {
   "cell_type": "code",
   "execution_count": 22,
   "metadata": {},
   "outputs": [
    {
     "name": "stdout",
     "output_type": "stream",
     "text": [
      "+--------------+-------------+\n",
      "|            ip|request_count|\n",
      "+--------------+-------------+\n",
      "| 73.75.132.220|            2|\n",
      "| 130.46.57.160|            2|\n",
      "|59.101.173.112|            1|\n",
      "| 198.252.23.82|            1|\n",
      "|167.248.71.230|            1|\n",
      "|125.35.205.176|            1|\n",
      "|  9.103.109.51|            1|\n",
      "|   6.1.135.161|            1|\n",
      "|75.247.198.187|            1|\n",
      "| 209.37.34.232|            1|\n",
      "+--------------+-------------+\n",
      "\n"
     ]
    }
   ],
   "source": [
    "from pyspark.sql.functions import col, count, filter\n",
    "\n",
    "top_active_ip = df.groupBy(col('ip')).agg(count(col('ip')).alias('request_count')).orderBy(col('request_count').desc()).limit(10)\n",
    "top_active_ip.show()"
   ]
  },
  {
   "cell_type": "code",
   "execution_count": 23,
   "metadata": {},
   "outputs": [
    {
     "name": "stdout",
     "output_type": "stream",
     "text": [
      "+------+------------+\n",
      "|method|method_count|\n",
      "+------+------------+\n",
      "|DELETE|       25333|\n",
      "|   PUT|       25054|\n",
      "|   GET|       24813|\n",
      "|  POST|       24800|\n",
      "+------+------------+\n",
      "\n"
     ]
    }
   ],
   "source": [
    "count_http = df.groupBy('method').agg(count(col('method')).alias('method_count')).orderBy(col('method_count').desc()).limit(10)\n",
    "count_http.show()"
   ]
  },
  {
   "cell_type": "code",
   "execution_count": 24,
   "metadata": {},
   "outputs": [
    {
     "name": "stdout",
     "output_type": "stream",
     "text": [
      "+-------------+-------------------+\n",
      "|response_code|total_response_size|\n",
      "+-------------+-------------------+\n",
      "|          404|              24840|\n",
      "+-------------+-------------------+\n",
      "\n"
     ]
    }
   ],
   "source": [
    "respose_404_cnt = df.filter(col('response_code')=='404').groupBy(col('response_code')).agg(count(col('response_code')).alias('total_response_size')).orderBy(col('total_response_size').desc()).limit(10)\n",
    "respose_404_cnt.show()"
   ]
  },
  {
   "cell_type": "code",
   "execution_count": 26,
   "metadata": {},
   "outputs": [
    {
     "name": "stdout",
     "output_type": "stream",
     "text": [
      "+---------------+-------------------+------+------------------+-------------+-------------+----------+\n",
      "|             ip|          timestamp|method|               url|response_code|response_size|      date|\n",
      "+---------------+-------------------+------+------------------+-------------+-------------+----------+\n",
      "| 65.188.134.213|2024-06-16 21:03:58|   PUT|          tag/main|          301|         1240|2024-06-16|\n",
      "|  164.201.196.1|2024-02-07 23:17:32|  POST|   blog/main/posts|          200|         8839|2024-02-07|\n",
      "| 181.111.157.10|2024-05-28 17:13:05|DELETE|               app|          404|         3713|2024-05-28|\n",
      "|  125.3.137.142|2024-02-04 18:15:14|DELETE|      main/explore|          200|         9517|2024-02-04|\n",
      "|160.117.189.238|2024-06-23 01:59:10|  POST|        categories|          301|         4523|2024-06-23|\n",
      "| 202.171.48.119|2024-11-30 03:18:37|   PUT|               app|          404|         2392|2024-11-30|\n",
      "| 139.65.197.224|2024-03-17 12:09:03|   PUT|   categories/main|          404|         3263|2024-03-17|\n",
      "|   64.55.57.245|2024-10-04 07:18:42|  POST|          category|          200|         7125|2024-10-04|\n",
      "|  65.170.201.72|2024-01-23 05:48:30|   PUT|    search/explore|          200|         1827|2024-01-23|\n",
      "| 168.121.129.72|2024-09-29 13:47:01|   GET|posts/tag/category|          404|         7329|2024-09-29|\n",
      "+---------------+-------------------+------+------------------+-------------+-------------+----------+\n",
      "only showing top 10 rows\n",
      "\n"
     ]
    }
   ],
   "source": [
    "from pyspark.sql.functions import to_date\n",
    "df_with_date = df.withColumn('date', to_date(col('timestamp')))\n",
    "df_with_date.show(10)\n"
   ]
  },
  {
   "cell_type": "code",
   "execution_count": 29,
   "metadata": {},
   "outputs": [
    {
     "name": "stdout",
     "output_type": "stream",
     "text": [
      "+----------+-------------------+\n",
      "|      date|total_response_size|\n",
      "+----------+-------------------+\n",
      "|2024-01-01|                300|\n",
      "|2024-01-02|                289|\n",
      "|2024-01-03|                255|\n",
      "|2024-01-04|                286|\n",
      "|2024-01-05|                255|\n",
      "|2024-01-06|                268|\n",
      "|2024-01-07|                277|\n",
      "|2024-01-08|                286|\n",
      "|2024-01-09|                257|\n",
      "|2024-01-10|                276|\n",
      "+----------+-------------------+\n",
      "\n"
     ]
    }
   ],
   "source": [
    "responses_by_date = df_with_date.groupBy(col('date')).agg(count(col('method')).alias('total_response_size')).orderBy(col('date')).limit(10)\n",
    "responses_by_date.show()"
   ]
  }
 ],
 "metadata": {
  "kernelspec": {
   "display_name": "venv",
   "language": "python",
   "name": "python3"
  },
  "language_info": {
   "codemirror_mode": {
    "name": "ipython",
    "version": 3
   },
   "file_extension": ".py",
   "mimetype": "text/x-python",
   "name": "python",
   "nbconvert_exporter": "python",
   "pygments_lexer": "ipython3",
   "version": "3.12.1"
  }
 },
 "nbformat": 4,
 "nbformat_minor": 2
}
